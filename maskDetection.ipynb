{
  "nbformat": 4,
  "nbformat_minor": 0,
  "metadata": {
    "colab": {
      "name": "maskDetection.ipynb",
      "provenance": [],
      "authorship_tag": "ABX9TyMFi/BeB7ZWbpTuyutRO8AE",
      "include_colab_link": true
    },
    "kernelspec": {
      "name": "python3",
      "display_name": "Python 3"
    },
    "accelerator": "GPU"
  },
  "cells": [
    {
      "cell_type": "markdown",
      "metadata": {
        "id": "view-in-github",
        "colab_type": "text"
      },
      "source": [
        "<a href=\"https://colab.research.google.com/github/ShahedSabab/maskOrNot/blob/master/maskDetection.ipynb\" target=\"_parent\"><img src=\"https://colab.research.google.com/assets/colab-badge.svg\" alt=\"Open In Colab\"/></a>"
      ]
    },
    {
      "cell_type": "code",
      "metadata": {
        "id": "W-rV8PFK_Y6x",
        "colab_type": "code",
        "colab": {}
      },
      "source": [
        "from tensorflow.keras.applications import ResNet50\n",
        "from tensorflow.keras.models import Sequential\n",
        "from tensorflow.keras.layers import Dense, Flatten, GlobalAveragePooling2D\n",
        "from tensorflow.keras.applications.resnet50 import preprocess_input\n",
        "from tensorflow.keras.preprocessing.image import ImageDataGenerator\n",
        "import numpy as np\n",
        "import pandas as pd\n",
        "import re"
      ],
      "execution_count": 0,
      "outputs": []
    },
    {
      "cell_type": "markdown",
      "metadata": {
        "id": "s2XIAghN7P2T",
        "colab_type": "text"
      },
      "source": [
        "# Defining Model"
      ]
    },
    {
      "cell_type": "code",
      "metadata": {
        "id": "vKkp55Gp7O3w",
        "colab_type": "code",
        "colab": {}
      },
      "source": [
        "num_classes = 2\n",
        "model = Sequential()\n",
        "model.add(ResNet50(include_top=False, pooling='avg', weights='imagenet'))\n",
        "model.add(Dense(num_classes, activation='softmax'))\n",
        "\n",
        "# not using the first layer for training\n",
        "model.layers[0].trainable = False"
      ],
      "execution_count": 0,
      "outputs": []
    },
    {
      "cell_type": "markdown",
      "metadata": {
        "id": "m5A52wNc7UPm",
        "colab_type": "text"
      },
      "source": [
        "# Compile Model"
      ]
    },
    {
      "cell_type": "code",
      "metadata": {
        "id": "On1zsbm9AEtA",
        "colab_type": "code",
        "colab": {}
      },
      "source": [
        "model.compile(optimizer='sgd', \n",
        "                     loss='categorical_crossentropy', \n",
        "                     metrics=['accuracy'])"
      ],
      "execution_count": 0,
      "outputs": []
    },
    {
      "cell_type": "markdown",
      "metadata": {
        "id": "wLgrkDwp7hHr",
        "colab_type": "text"
      },
      "source": [
        "# Image augmentation for preprocessing image"
      ]
    },
    {
      "cell_type": "code",
      "metadata": {
        "id": "v6d3tF3OMzHL",
        "colab_type": "code",
        "colab": {}
      },
      "source": [
        "# data augmentation for training images\n",
        "data_generator_with_aug = ImageDataGenerator(preprocessing_function=preprocess_input,\n",
        "                                              horizontal_flip = True, \n",
        "                                              width_shift_range = 0.1,\n",
        "                                              height_shift_range = 0.1)\n",
        "            \n",
        "# Speicy no augmentation that will be used for validation data\n",
        "data_generator_no_aug = ImageDataGenerator(preprocessing_function=preprocess_input)"
      ],
      "execution_count": 0,
      "outputs": []
    },
    {
      "cell_type": "markdown",
      "metadata": {
        "id": "xP9TPIKL8KrE",
        "colab_type": "text"
      },
      "source": [
        "# Take image directly from director and apply augmentation"
      ]
    },
    {
      "cell_type": "code",
      "metadata": {
        "id": "Xd15VDFhDe3O",
        "colab_type": "code",
        "outputId": "69dcdfb1-1a77-4869-d5e1-7cd4e19e3d43",
        "colab": {
          "base_uri": "https://localhost:8080/",
          "height": 54
        }
      },
      "source": [
        "#define image size height and width\n",
        "image_size = 224\n",
        "\n",
        "#Prepare training image\n",
        "train_generator = data_generator_with_aug.flow_from_directory(\n",
        "                                        directory='input/mask-detection/images/train',\n",
        "                                        classes = ['with_mask', 'without_mask'],\n",
        "                                        target_size=(image_size, image_size),\n",
        "                                        batch_size=10,\n",
        "                                        class_mode='categorical')\n",
        "#Prepare validation image\n",
        "validation_generator = data_generator_no_aug.flow_from_directory(\n",
        "                                        directory='input/mask-detection/images/val',\n",
        "                                        classes = ['with_mask', 'without_mask'],\n",
        "                                        target_size=(image_size, image_size),\n",
        "                                        class_mode='categorical')"
      ],
      "execution_count": 129,
      "outputs": [
        {
          "output_type": "stream",
          "text": [
            "Found 1074 images belonging to 2 classes.\n",
            "Found 600 images belonging to 2 classes.\n"
          ],
          "name": "stdout"
        }
      ]
    },
    {
      "cell_type": "markdown",
      "metadata": {
        "id": "egyQU56K8XOa",
        "colab_type": "text"
      },
      "source": [
        "# Fit the model"
      ]
    },
    {
      "cell_type": "code",
      "metadata": {
        "id": "TDY-C13s8Zva",
        "colab_type": "code",
        "outputId": "01160775-a467-4644-9d9a-de3026895d1f",
        "colab": {
          "base_uri": "https://localhost:8080/",
          "height": 163
        }
      },
      "source": [
        "fit_stats = model.fit_generator(train_generator,\n",
        "                                       steps_per_epoch=60,\n",
        "                                       epochs = 4,\n",
        "                                       validation_data=validation_generator,\n",
        "                                       validation_steps=1)"
      ],
      "execution_count": 130,
      "outputs": [
        {
          "output_type": "stream",
          "text": [
            "Epoch 1/4\n",
            "60/60 [==============================] - 11s 179ms/step - loss: 0.1816 - accuracy: 0.9276 - val_loss: 0.1655 - val_accuracy: 0.9375\n",
            "Epoch 2/4\n",
            "60/60 [==============================] - 10s 160ms/step - loss: 0.0729 - accuracy: 0.9731 - val_loss: 0.0121 - val_accuracy: 1.0000\n",
            "Epoch 3/4\n",
            "60/60 [==============================] - 10s 175ms/step - loss: 0.0554 - accuracy: 0.9815 - val_loss: 0.0147 - val_accuracy: 1.0000\n",
            "Epoch 4/4\n",
            "60/60 [==============================] - 10s 170ms/step - loss: 0.0521 - accuracy: 0.9767 - val_loss: 0.1219 - val_accuracy: 0.9688\n"
          ],
          "name": "stdout"
        }
      ]
    },
    {
      "cell_type": "markdown",
      "metadata": {
        "id": "W5ofqSpT8l2R",
        "colab_type": "text"
      },
      "source": [
        "# Testing with test image"
      ]
    },
    {
      "cell_type": "code",
      "metadata": {
        "id": "GSYPzqrwHVBk",
        "colab_type": "code",
        "outputId": "3c8164a5-9a02-4bb3-83cf-28735e825905",
        "colab": {
          "base_uri": "https://localhost:8080/",
          "height": 54
        }
      },
      "source": [
        "#collect test data from directory and process\n",
        "test_generator = data_generator_no_aug.flow_from_directory(\n",
        "    directory='input/mask-detection/images/test',\n",
        "    target_size=(image_size, image_size),\n",
        "    batch_size= 10,\n",
        "    class_mode=None,\n",
        "    shuffle=False\n",
        ")\n",
        "\n",
        "# Predict from generator (returns probabilities)\n",
        "pred=model.predict_generator(test_generator, steps=len(test_generator), verbose=1)\n",
        "# Get classes by np.round\n",
        "cl = np.round(pred)\n",
        "# Get filenames (set shuffle=false in generator is important)\n",
        "filenames=test_generator.filenames\n",
        "# Data frame\n",
        "\n",
        "real_class = []\n",
        "for file in filenames:\n",
        "  if re.search(\"with_mask\", file):\n",
        "    real_class.append(1.0)\n",
        "  else:\n",
        "    real_class.append(0.0)\n",
        "\n",
        "predicted_class = cl[:,0]\n",
        "\n",
        "results=pd.DataFrame({\"file\":filenames,\"pr\":pred[:,0], \"pred_class\":predicted_class, \"real_class\":real_class})"
      ],
      "execution_count": 131,
      "outputs": [
        {
          "output_type": "stream",
          "text": [
            "Found 200 images belonging to 3 classes.\n",
            "20/20 [==============================] - 2s 120ms/step\n"
          ],
          "name": "stdout"
        }
      ]
    },
    {
      "cell_type": "code",
      "metadata": {
        "id": "b68ts5VmbCpR",
        "colab_type": "code",
        "outputId": "cab36572-c705-4327-cad9-8ec60544fd2c",
        "colab": {
          "base_uri": "https://localhost:8080/",
          "height": 407
        }
      },
      "source": [
        "results"
      ],
      "execution_count": 132,
      "outputs": [
        {
          "output_type": "execute_result",
          "data": {
            "text/html": [
              "<div>\n",
              "<style scoped>\n",
              "    .dataframe tbody tr th:only-of-type {\n",
              "        vertical-align: middle;\n",
              "    }\n",
              "\n",
              "    .dataframe tbody tr th {\n",
              "        vertical-align: top;\n",
              "    }\n",
              "\n",
              "    .dataframe thead th {\n",
              "        text-align: right;\n",
              "    }\n",
              "</style>\n",
              "<table border=\"1\" class=\"dataframe\">\n",
              "  <thead>\n",
              "    <tr style=\"text-align: right;\">\n",
              "      <th></th>\n",
              "      <th>file</th>\n",
              "      <th>pr</th>\n",
              "      <th>pred_class</th>\n",
              "      <th>real_class</th>\n",
              "    </tr>\n",
              "  </thead>\n",
              "  <tbody>\n",
              "    <tr>\n",
              "      <th>0</th>\n",
              "      <td>with_mask/train_00000859.jpg</td>\n",
              "      <td>0.994824</td>\n",
              "      <td>1.0</td>\n",
              "      <td>1.0</td>\n",
              "    </tr>\n",
              "    <tr>\n",
              "      <th>1</th>\n",
              "      <td>with_mask/train_00000860.jpg</td>\n",
              "      <td>0.999909</td>\n",
              "      <td>1.0</td>\n",
              "      <td>1.0</td>\n",
              "    </tr>\n",
              "    <tr>\n",
              "      <th>2</th>\n",
              "      <td>with_mask/train_00000861.jpg</td>\n",
              "      <td>1.000000</td>\n",
              "      <td>1.0</td>\n",
              "      <td>1.0</td>\n",
              "    </tr>\n",
              "    <tr>\n",
              "      <th>3</th>\n",
              "      <td>with_mask/train_00000862.jpg</td>\n",
              "      <td>0.999907</td>\n",
              "      <td>1.0</td>\n",
              "      <td>1.0</td>\n",
              "    </tr>\n",
              "    <tr>\n",
              "      <th>4</th>\n",
              "      <td>with_mask/train_00000863.jpg</td>\n",
              "      <td>1.000000</td>\n",
              "      <td>1.0</td>\n",
              "      <td>1.0</td>\n",
              "    </tr>\n",
              "    <tr>\n",
              "      <th>...</th>\n",
              "      <td>...</td>\n",
              "      <td>...</td>\n",
              "      <td>...</td>\n",
              "      <td>...</td>\n",
              "    </tr>\n",
              "    <tr>\n",
              "      <th>195</th>\n",
              "      <td>without_mask/53_0_0_20170120223141508.jpg</td>\n",
              "      <td>0.000374</td>\n",
              "      <td>0.0</td>\n",
              "      <td>0.0</td>\n",
              "    </tr>\n",
              "    <tr>\n",
              "      <th>196</th>\n",
              "      <td>without_mask/53_0_0_20170120223144035.jpg</td>\n",
              "      <td>0.000436</td>\n",
              "      <td>0.0</td>\n",
              "      <td>0.0</td>\n",
              "    </tr>\n",
              "    <tr>\n",
              "      <th>197</th>\n",
              "      <td>without_mask/5_0_3_20170119212110570.jpg</td>\n",
              "      <td>0.006018</td>\n",
              "      <td>0.0</td>\n",
              "      <td>0.0</td>\n",
              "    </tr>\n",
              "    <tr>\n",
              "      <th>198</th>\n",
              "      <td>without_mask/5_1_3_20170119151512160.jpg</td>\n",
              "      <td>0.032208</td>\n",
              "      <td>0.0</td>\n",
              "      <td>0.0</td>\n",
              "    </tr>\n",
              "    <tr>\n",
              "      <th>199</th>\n",
              "      <td>without_mask/5_1_3_20170119154358954.jpg</td>\n",
              "      <td>0.031381</td>\n",
              "      <td>0.0</td>\n",
              "      <td>0.0</td>\n",
              "    </tr>\n",
              "  </tbody>\n",
              "</table>\n",
              "<p>200 rows × 4 columns</p>\n",
              "</div>"
            ],
            "text/plain": [
              "                                          file  ...  real_class\n",
              "0                 with_mask/train_00000859.jpg  ...         1.0\n",
              "1                 with_mask/train_00000860.jpg  ...         1.0\n",
              "2                 with_mask/train_00000861.jpg  ...         1.0\n",
              "3                 with_mask/train_00000862.jpg  ...         1.0\n",
              "4                 with_mask/train_00000863.jpg  ...         1.0\n",
              "..                                         ...  ...         ...\n",
              "195  without_mask/53_0_0_20170120223141508.jpg  ...         0.0\n",
              "196  without_mask/53_0_0_20170120223144035.jpg  ...         0.0\n",
              "197   without_mask/5_0_3_20170119212110570.jpg  ...         0.0\n",
              "198   without_mask/5_1_3_20170119151512160.jpg  ...         0.0\n",
              "199   without_mask/5_1_3_20170119154358954.jpg  ...         0.0\n",
              "\n",
              "[200 rows x 4 columns]"
            ]
          },
          "metadata": {
            "tags": []
          },
          "execution_count": 132
        }
      ]
    },
    {
      "cell_type": "code",
      "metadata": {
        "id": "8R4_Xs5a21iH",
        "colab_type": "code",
        "colab": {
          "base_uri": "https://localhost:8080/",
          "height": 35
        },
        "outputId": "cd2f00a0-aaca-464c-e53d-438765922602"
      },
      "source": [
        "res = sum(1 for x,y in zip(real_class,predicted_class) if x == y) / len(real_class)\n",
        "print(\"Accuracy :\", res)"
      ],
      "execution_count": 133,
      "outputs": [
        {
          "output_type": "stream",
          "text": [
            "Accuracy : 0.99\n"
          ],
          "name": "stdout"
        }
      ]
    },
    {
      "cell_type": "markdown",
      "metadata": {
        "id": "R5YCEhnBiT6e",
        "colab_type": "text"
      },
      "source": [
        "# Save Model"
      ]
    },
    {
      "cell_type": "code",
      "metadata": {
        "id": "GaKfpVijhX7i",
        "colab_type": "code",
        "colab": {}
      },
      "source": [
        "model.save('maskDetectionModel.h5')"
      ],
      "execution_count": 0,
      "outputs": []
    }
  ]
}